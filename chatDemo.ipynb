{
 "cells": [
  {
   "cell_type": "code",
   "execution_count": 3,
   "metadata": {},
   "outputs": [
    {
     "name": "stderr",
     "output_type": "stream",
     "text": [
      "/Users/ryanrodrigues/.local/share/virtualenvs/GeminiGenerativeAI-r0q8n7Y_/lib/python3.11/site-packages/tqdm/auto.py:21: TqdmWarning: IProgress not found. Please update jupyter and ipywidgets. See https://ipywidgets.readthedocs.io/en/stable/user_install.html\n",
      "  from .autonotebook import tqdm as notebook_tqdm\n"
     ]
    }
   ],
   "source": [
    "import google.generativeai as genai\n",
    "import os\n",
    "from dotenv import load_dotenv\n",
    "# for reading images\n",
    "import PIL.Image"
   ]
  },
  {
   "cell_type": "code",
   "execution_count": 4,
   "metadata": {},
   "outputs": [],
   "source": [
    "load_dotenv()\n",
    "api_key = os.getenv(\"GEMINI_API_KEY\")\n",
    "genai.configure(api_key=api_key)\n",
    "model = genai.GenerativeModel(\"gemini-1.5-flash\")"
   ]
  },
  {
   "cell_type": "markdown",
   "metadata": {},
   "source": [
    "### Image to Text"
   ]
  },
  {
   "cell_type": "code",
   "execution_count": 5,
   "metadata": {},
   "outputs": [
    {
     "name": "stdout",
     "output_type": "stream",
     "text": [
      "Those are coconut cookies.  Specifically, they appear to be a type of coconut macaroon or a similar cookie where shredded coconut is a prominent ingredient, baked into a relatively thin, flat, and somewhat crisp cookie.  The slight browning suggests they might have a touch of brown sugar or a similar ingredient contributing to their flavor.\n",
      "\n"
     ]
    }
   ],
   "source": [
    "\n",
    "organ = PIL.Image.open(\"./image/cookies.jpeg\")\n",
    "response = model.generate_content([\"Tell me about this instrument\", organ])\n",
    "print(response.text)"
   ]
  },
  {
   "cell_type": "markdown",
   "metadata": {},
   "source": [
    "### Chat "
   ]
  },
  {
   "cell_type": "code",
   "execution_count": 6,
   "metadata": {},
   "outputs": [
    {
     "name": "stdout",
     "output_type": "stream",
     "text": [
      "That's lovely!  Do you have any questions about your dogs, or would you like to tell me more about them?  Perhaps their breeds, names, or favorite things?\n",
      "\n",
      "There are eight paws in your house.  Two dogs x four paws/dog = eight paws.\n",
      "\n"
     ]
    }
   ],
   "source": [
    "# history initializes the chat with a predefined conversation history\n",
    "# The history contains two messages:\n",
    "#   The first message is from the user: \"Hello\".\n",
    "#   The second message is from the model: \"Great to meet you. What would you like to know?\".\n",
    "chat = model.start_chat(\n",
    "    history=[\n",
    "        {\"role\": \"user\", \"parts\": \"Hello\"},\n",
    "        {\"role\": \"model\", \"parts\": \"Great to meet you. What would you like to know?\"},\n",
    "    ]\n",
    ")\n",
    "\n",
    "# Chat remebers the previous conversation and provides context to messages sent.\n",
    "response = chat.send_message(\"I have 2 dogs in my house.\")\n",
    "print(response.text)\n",
    "response2 = chat.send_message(\"How many paws are in my house?\")\n",
    "print(response2.text)"
   ]
  },
  {
   "cell_type": "markdown",
   "metadata": {},
   "source": [
    "### Prompting a Video"
   ]
  },
  {
   "cell_type": "markdown",
   "metadata": {},
   "source": [
    "**Download a Video**"
   ]
  },
  {
   "cell_type": "code",
   "execution_count": 11,
   "metadata": {},
   "outputs": [
    {
     "name": "stdout",
     "output_type": "stream",
     "text": [
      "Downloaded file : GreatRedSpot.mp4\n"
     ]
    }
   ],
   "source": [
    "# !wget https://storage.googleapis.com/generativeai-downloads/images/GreatRedSpot.mp4 -O GreatRedSpot.mp4\n",
    "import wget\n",
    "\n",
    "url = \"https://storage.googleapis.com/generativeai-downloads/images/GreatRedSpot.mp4\"\n",
    "file = wget.download(url)\n",
    "\n",
    "print(f\"Downloaded file : {file}\")"
   ]
  },
  {
   "cell_type": "markdown",
   "metadata": {},
   "source": [
    "**Upload a file to Gemini Generative Ai services storage**\n",
    "<br/>The location where they are uploaded are abstracted from the user."
   ]
  },
  {
   "cell_type": "code",
   "execution_count": null,
   "metadata": {},
   "outputs": [
    {
     "name": "stdout",
     "output_type": "stream",
     "text": [
      "Uploading file...\n",
      "Completed upload: https://generativelanguage.googleapis.com/v1beta/files/2zuwr1y7ynba\n"
     ]
    }
   ],
   "source": [
    "# Upload the video and print a confirmation.\n",
    "print(f\"Uploading file...\")\n",
    "video_file = genai.upload_file(path=file)\n",
    "print(f\"Completed upload: {video_file.uri}\")"
   ]
  },
  {
   "cell_type": "markdown",
   "metadata": {},
   "source": [
    "**Check if Video has been uploaded**"
   ]
  },
  {
   "cell_type": "code",
   "execution_count": 13,
   "metadata": {},
   "outputs": [
    {
     "name": "stdout",
     "output_type": "stream",
     "text": [
      "."
     ]
    }
   ],
   "source": [
    "import time\n",
    "\n",
    "# Check whether the file is ready to be used.\n",
    "while video_file.state.name == \"PROCESSING\":\n",
    "    print('.', end='')\n",
    "    time.sleep(10)\n",
    "    video_file = genai.get_file(video_file.name)\n",
    "\n",
    "if video_file.state.name == \"FAILED\":\n",
    "  raise ValueError(video_file.state.name)"
   ]
  },
  {
   "cell_type": "markdown",
   "metadata": {},
   "source": [
    "**Prompt with a video and text**"
   ]
  },
  {
   "cell_type": "code",
   "execution_count": 15,
   "metadata": {},
   "outputs": [
    {
     "name": "stdout",
     "output_type": "stream",
     "text": [
      "Making LLM inference request...\n"
     ]
    },
    {
     "data": {
      "text/markdown": [
       "This video explores Jupiter and its Great Red Spot. Jupiter is the largest and oldest planet in the solar system, and it’s made of the same elements as a star, though it never grew massive enough to ignite. Its swirling interior of gases and liquids creates the distinctive colorful cloud bands across the planet. The Great Red Spot, an anticyclone, has raged on Jupiter for over a century. As Jupiter is composed of gas and has no land mass, the storm continues with nothing to slow it down. \n",
       "\n",
       "Scientists have observed the Great Red Spot shrinking, darkening, and getting rounder. Initially, they thought this meant the wind speeds within the spot were increasing. However, data now shows that it’s not spinning faster but growing taller. The smaller circumference from above is due to the spot increasing in height. It’s like shaping pottery. As the pottery spins on a wheel, its height increases. From our perspective, the top appears to become smaller and rounder.\n",
       "\n",
       "When it was first observed, the Great Red Spot was large enough to hold three Earths. Currently, the spot is only a little larger than Earth. These discoveries come from analyzing data collected by numerous NASA missions, including Voyager, Hubble, and Juno. Scientists hope further research will unlock more secrets of the Great Red Spot.\n",
       "\n",
       "\n",
       "Here’s a quiz about the video:\n",
       "\n",
       "1. True or False: Jupiter is the oldest planet in the solar system.\n",
       "2. How old is Jupiter?\n",
       "3. True or False: Jupiter is made of the same elements as a planet.\n",
       "4. What creates Jupiter’s distinctive bands of color?\n",
       "5. What type of storm is the Great Red Spot?\n",
       "6. What has caused the Great Red Spot to continue for over a century?\n",
       "7. True or False: As the Great Red Spot shrinks, it’s spinning faster.\n",
       "8. True or False: The Great Red Spot is getting taller.\n",
       "9. What analogy does the video use to explain what’s happening to the Great Red Spot?\n",
       "10. Name two of the NASA missions that have collected data used to study the Great Red Spot.\n",
       "\n",
       "Answer Key:\n",
       "1. True\n",
       "2. 4.5 billion years\n",
       "3. False\n",
       "4. Its swirling interior of gases and liquids.\n",
       "5. Anticyclone\n",
       "6. The absence of land masses.\n",
       "7. False\n",
       "8. True\n",
       "9. Shaping pottery\n",
       "10. Voyager, Hubble, and Juno."
      ],
      "text/plain": [
       "<IPython.core.display.Markdown object>"
      ]
     },
     "execution_count": 15,
     "metadata": {},
     "output_type": "execute_result"
    }
   ],
   "source": [
    "from IPython.display import Markdown\n",
    "\n",
    "# Create the prompt.\n",
    "prompt = \"Summarize this video. Then create a quiz with answer key based on the information in the video.\"\n",
    "\n",
    "# Choose a Gemini model.\n",
    "model = genai.GenerativeModel(model_name=\"gemini-1.5-pro\")\n",
    "\n",
    "# Make the LLM request.\n",
    "print(\"Making LLM inference request...\")\n",
    "response = model.generate_content([video_file, prompt],\n",
    "                                  request_options={\"timeout\": 600})\n",
    "\n",
    "# Print the response, rendering any Markdown\n",
    "Markdown(response.text)"
   ]
  },
  {
   "cell_type": "code",
   "execution_count": null,
   "metadata": {},
   "outputs": [],
   "source": []
  }
 ],
 "metadata": {
  "kernelspec": {
   "display_name": "GeminiGenerativeAI-r0q8n7Y_",
   "language": "python",
   "name": "python3"
  },
  "language_info": {
   "codemirror_mode": {
    "name": "ipython",
    "version": 3
   },
   "file_extension": ".py",
   "mimetype": "text/x-python",
   "name": "python",
   "nbconvert_exporter": "python",
   "pygments_lexer": "ipython3",
   "version": "3.11.11"
  }
 },
 "nbformat": 4,
 "nbformat_minor": 2
}
